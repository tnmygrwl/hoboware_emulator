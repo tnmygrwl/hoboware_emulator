{
 "cells": [
  {
   "cell_type": "markdown",
   "metadata": {},
   "source": [
    "# Flagging DO data that is <0.5 mg/L for more than an hour"
   ]
  },
  {
   "cell_type": "code",
   "execution_count": null,
   "metadata": {},
   "outputs": [],
   "source": [
    "# Flagging DO data that is <0.5 mg/L for more than an hour\n",
    "\n",
    "# First, ensure the 'Date Time, GMT-04:00' column is in datetime format for comparison\n",
    "do_data['Date Time, GMT-04:00'] = pd.to_datetime(do_data['Date Time, GMT-04:00'])\n",
    "\n",
    "# Sort the data by date to ensure it's in chronological order\n",
    "do_data.sort_values(by='Date Time, GMT-04:00', inplace=True)\n",
    "\n",
    "# Create a flag column initialized to False\n",
    "do_data['Fouling Flag'] = False\n",
    "\n",
    "# Loop through the data to find instances where DOSW < 0.5 for more than an hour\n",
    "for i in range(len(do_data)):\n",
    "    # Check if current row's DOSW is < 0.5\n",
    "    if do_data.iloc[i]['DOSW'] < 0.5:\n",
    "        start_time = do_data.iloc[i]['Date Time, GMT-04:00']\n",
    "        # Look ahead to find if the condition persists for more than an hour\n",
    "        for j in range(i+1, len(do_data)):\n",
    "            if do_data.iloc[j]['DOSW'] < 0.5:\n",
    "                end_time = do_data.iloc[j]['Date Time, GMT-04:00']\n",
    "                if (end_time - start_time).total_seconds() / 3600 > 1:\n",
    "                    # Flag all rows within the time range\n",
    "                    do_data.loc[(do_data['Date Time, GMT-04:00'] >= start_time) & (do_data['Date Time, GMT-04:00'] <= end_time), 'Fouling Flag'] = True\n",
    "                    break\n",
    "            else:\n",
    "                break"
   ]
  }
 ],
 "metadata": {
  "language_info": {
   "name": "python"
  }
 },
 "nbformat": 4,
 "nbformat_minor": 2
}
